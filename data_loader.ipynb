{
 "cells": [
  {
   "cell_type": "code",
   "execution_count": 1,
   "metadata": {},
   "outputs": [
    {
     "name": "stdout",
     "output_type": "stream",
     "text": [
      "Intel MKL WARNING: Support of Intel(R) Streaming SIMD Extensions 4.2 (Intel(R) SSE4.2) enabled only processors has been deprecated. Intel oneAPI Math Kernel Library 2025.0 will require Intel(R) Advanced Vector Extensions (Intel(R) AVX) instructions.\n",
      "Intel MKL WARNING: Support of Intel(R) Streaming SIMD Extensions 4.2 (Intel(R) SSE4.2) enabled only processors has been deprecated. Intel oneAPI Math Kernel Library 2025.0 will require Intel(R) Advanced Vector Extensions (Intel(R) AVX) instructions.\n"
     ]
    }
   ],
   "source": [
    "from modal import Image, Secret, Stub, web_endpoint, enter, method\n",
    "# from langchain_openai import OpenAIEmbeddings\n",
    "from langchain_community.vectorstores import Chroma\n",
    "from langchain_community.document_loaders import WebBaseLoader\n",
    "from langchain_text_splitters import RecursiveCharacterTextSplitter\n",
    "from langchain.chains.combine_documents import create_stuff_documents_chain\n",
    "from llm import get_anthropic_llm, get_openai_llm\n",
    "from langchain.prompts import ChatPromptTemplate\n",
    "from langchain.chains import create_retrieval_chain\n",
    "from dotenv import load_dotenv\n",
    "import os\n",
    "from typing import Dict\n",
    "from langchain_core.prompts import MessagesPlaceholder\n",
    "from langchain.chains import create_history_aware_retriever\n",
    "from langchain_core.messages import HumanMessage, AIMessage\n",
    "import modal\n",
    "from fastapi import FastAPI, HTTPException\n",
    "from fastapi.responses import StreamingResponse\n",
    "from fastapi.middleware.cors import CORSMiddleware\n",
    "from langchain_core.output_parsers import StrOutputParser\n",
    "from pymongo import MongoClient\n",
    "from langchain_nomic.embeddings import NomicEmbeddings\n",
    "from langchain_mongodb import MongoDBAtlasVectorSearch\n",
    "from langchain_community.document_loaders import UnstructuredEPubLoader"
   ]
  },
  {
   "cell_type": "code",
   "execution_count": null,
   "metadata": {},
   "outputs": [],
   "source": [
    "%pip install pymongo langchain_nomic langchain_mongodb unstructured pypandoc"
   ]
  },
  {
   "cell_type": "code",
   "execution_count": 3,
   "metadata": {},
   "outputs": [],
   "source": [
    "embeddings = NomicEmbeddings(model=\"nomic-embed-text-v1.5\")\n",
    "\n",
    "# initialize MongoDB python client\n",
    "client = MongoClient(\"mongodb+srv://sugamxp:<password>@cluster0.wsfteju.mongodb.net/?retryWrites=true&w=majority&appName=Cluster0\")\n",
    "\n",
    "DB_NAME = \"mongohack\"\n",
    "COLLECTION_NAME = \"judges\"\n",
    "ATLAS_VECTOR_SEARCH_INDEX_NAME = \"judges_index\"\n",
    "\n",
    "atlas_collection = client[DB_NAME][COLLECTION_NAME]"
   ]
  },
  {
   "cell_type": "code",
   "execution_count": 9,
   "metadata": {},
   "outputs": [
    {
     "name": "stdout",
     "output_type": "stream",
     "text": [
      "page_content='Investors don’t care about your dreams and goals. They love that you\\nhave them. They love that you are motivated by them. Investors care\\nabout how they are going to get their money back and then some. Family\\ncares about your dreams. Investors care about money. There is a reason\\nwhy venture capitalists are often referred to as Vulture Capitalists.\\nThe minute you slide off course from the promises you made to get the\\nmoney, your dreams fall in jeopardy. You will find yourself making\\npromises to keep investors at bay. You will find yourself avoiding your\\ninvestors. Then you will find yourself on the outside looking in. The\\nreality of taking money from non-family members is that they are doing\\nit for only one reason, to make more money. If you can’t deliver on that\\npromise, you are out. You will be removed from the company you started.\\nYou w star backill find someone else running your dream company. If this\\nsounds like a scene out of The Sopranos or' metadata={'source': 'cuban.epub'}\n"
     ]
    }
   ],
   "source": [
    "loader = UnstructuredEPubLoader(\"cuban.epub\")\n",
    "data = loader.load()\n",
    "# Split PDF into documents\n",
    "text_splitter = RecursiveCharacterTextSplitter(chunk_size=1024, chunk_overlap=20)\n",
    "docs = text_splitter.split_documents(data)\n",
    "# Print the first document\n",
    "print(docs[101])"
   ]
  },
  {
   "cell_type": "code",
   "execution_count": 10,
   "metadata": {},
   "outputs": [],
   "source": [
    "\n",
    "from langchain_text_splitters import RecursiveCharacterTextSplitter\n",
    "\n",
    "text_splitter = RecursiveCharacterTextSplitter(chunk_size=500, chunk_overlap=0)\n",
    "all_splits = text_splitter.split_documents(data)\n",
    "\n",
    "vector_search = MongoDBAtlasVectorSearch.from_documents(\n",
    "    documents = docs,\n",
    "    embedding = embeddings,\n",
    "    collection = atlas_collection,\n",
    "    index_name = ATLAS_VECTOR_SEARCH_INDEX_NAME\n",
    ")\n",
    "\n",
    "retriever = vector_search.as_retriever(\n",
    "   search_type = \"similarity\",\n",
    "   search_kwargs = {\"k\": 10, \"score_threshold\": 0.75}\n",
    ")"
   ]
  }
 ],
 "metadata": {
  "kernelspec": {
   "display_name": "llm-apps",
   "language": "python",
   "name": "python3"
  },
  "language_info": {
   "codemirror_mode": {
    "name": "ipython",
    "version": 3
   },
   "file_extension": ".py",
   "mimetype": "text/x-python",
   "name": "python",
   "nbconvert_exporter": "python",
   "pygments_lexer": "ipython3",
   "version": "3.10.13"
  }
 },
 "nbformat": 4,
 "nbformat_minor": 2
}
